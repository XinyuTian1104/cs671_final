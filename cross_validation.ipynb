{
  "cells": [
    {
      "cell_type": "markdown",
      "metadata": {},
      "source": [
        "\n",
        "# Demo for using cross validation\n"
      ]
    },
    {
      "cell_type": "code",
      "execution_count": 1,
      "metadata": {
        "collapsed": false
      },
      "outputs": [
        {
          "name": "stderr",
          "output_type": "stream",
          "text": [
            "/Users/xinyutian/opt/anaconda3/lib/python3.9/site-packages/pandas/core/computation/expressions.py:21: UserWarning: Pandas requires version '2.8.0' or newer of 'numexpr' (version '2.7.3' currently installed).\n",
            "  from pandas.core.computation.check import NUMEXPR_INSTALLED\n",
            "/Users/xinyutian/opt/anaconda3/lib/python3.9/site-packages/pandas/core/arrays/masked.py:62: UserWarning: Pandas requires version '1.3.4' or newer of 'bottleneck' (version '1.3.2' currently installed).\n",
            "  from pandas.core import (\n"
          ]
        },
        {
          "ename": "NameError",
          "evalue": "name '__file__' is not defined",
          "output_type": "error",
          "traceback": [
            "\u001b[0;31m---------------------------------------------------------------------------\u001b[0m",
            "\u001b[0;31mNameError\u001b[0m                                 Traceback (most recent call last)",
            "\u001b[0;32m/var/folders/46/46qfn8750nz4wpqzldyf5qf40000gn/T/ipykernel_27735/2819422328.py\u001b[0m in \u001b[0;36m<module>\u001b[0;34m\u001b[0m\n\u001b[1;32m      6\u001b[0m \u001b[0;34m\u001b[0m\u001b[0m\n\u001b[1;32m      7\u001b[0m \u001b[0;31m# load data in do training\u001b[0m\u001b[0;34m\u001b[0m\u001b[0;34m\u001b[0m\u001b[0m\n\u001b[0;32m----> 8\u001b[0;31m \u001b[0mCURRENT_DIR\u001b[0m \u001b[0;34m=\u001b[0m \u001b[0mos\u001b[0m\u001b[0;34m.\u001b[0m\u001b[0mpath\u001b[0m\u001b[0;34m.\u001b[0m\u001b[0mdirname\u001b[0m\u001b[0;34m(\u001b[0m\u001b[0m__file__\u001b[0m\u001b[0;34m)\u001b[0m\u001b[0;34m\u001b[0m\u001b[0;34m\u001b[0m\u001b[0m\n\u001b[0m\u001b[1;32m      9\u001b[0m dtrain = xgb.DMatrix(\n\u001b[1;32m     10\u001b[0m     \u001b[0mos\u001b[0m\u001b[0;34m.\u001b[0m\u001b[0mpath\u001b[0m\u001b[0;34m.\u001b[0m\u001b[0mjoin\u001b[0m\u001b[0;34m(\u001b[0m\u001b[0mCURRENT_DIR\u001b[0m\u001b[0;34m,\u001b[0m \u001b[0;34m\"../data/agaricus.txt.train?format=libsvm\"\u001b[0m\u001b[0;34m)\u001b[0m\u001b[0;34m\u001b[0m\u001b[0;34m\u001b[0m\u001b[0m\n",
            "\u001b[0;31mNameError\u001b[0m: name '__file__' is not defined"
          ]
        }
      ],
      "source": [
        "import os\n",
        "\n",
        "import numpy as np\n",
        "\n",
        "import xgboost as xgb\n",
        "\n",
        "# load data in do training\n",
        "CURRENT_DIR = os.path.dirname(__file__)\n",
        "dtrain = xgb.DMatrix(\n",
        "    os.path.join(CURRENT_DIR, \"../data/agaricus.txt.train?format=libsvm\")\n",
        ")\n",
        "param = {\"max_depth\": 2, \"eta\": 1, \"objective\": \"binary:logistic\"}\n",
        "num_round = 2\n",
        "\n",
        "print(\"running cross validation\")\n",
        "# do cross validation, this will print result out as\n",
        "# [iteration]  metric_name:mean_value+std_value\n",
        "# std_value is standard deviation of the metric\n",
        "xgb.cv(\n",
        "    param,\n",
        "    dtrain,\n",
        "    num_round,\n",
        "    nfold=5,\n",
        "    metrics={\"error\"},\n",
        "    seed=0,\n",
        "    callbacks=[xgb.callback.EvaluationMonitor(show_stdv=True)],\n",
        ")\n",
        "\n",
        "print(\"running cross validation, disable standard deviation display\")\n",
        "# do cross validation, this will print result out as\n",
        "# [iteration]  metric_name:mean_value\n",
        "res = xgb.cv(\n",
        "    param,\n",
        "    dtrain,\n",
        "    num_boost_round=10,\n",
        "    nfold=5,\n",
        "    metrics={\"error\"},\n",
        "    seed=0,\n",
        "    callbacks=[\n",
        "        xgb.callback.EvaluationMonitor(show_stdv=False),\n",
        "        xgb.callback.EarlyStopping(3),\n",
        "    ],\n",
        ")\n",
        "print(res)\n",
        "print(\"running cross validation, with preprocessing function\")\n",
        "\n",
        "\n",
        "# define the preprocessing function\n",
        "# used to return the preprocessed training, test data, and parameter\n",
        "# we can use this to do weight rescale, etc.\n",
        "# as a example, we try to set scale_pos_weight\n",
        "def fpreproc(dtrain, dtest, param):\n",
        "    label = dtrain.get_label()\n",
        "    ratio = float(np.sum(label == 0)) / np.sum(label == 1)\n",
        "    param[\"scale_pos_weight\"] = ratio\n",
        "    return (dtrain, dtest, param)\n",
        "\n",
        "\n",
        "# do cross validation, for each fold\n",
        "# the dtrain, dtest, param will be passed into fpreproc\n",
        "# then the return value of fpreproc will be used to generate\n",
        "# results of that fold\n",
        "xgb.cv(param, dtrain, num_round, nfold=5, metrics={\"auc\"}, seed=0, fpreproc=fpreproc)\n",
        "\n",
        "###\n",
        "# you can also do cross validation with customized loss function\n",
        "# See custom_objective.py\n",
        "##\n",
        "print(\"running cross validation, with customized loss function\")\n",
        "\n",
        "\n",
        "def logregobj(preds, dtrain):\n",
        "    labels = dtrain.get_label()\n",
        "    preds = 1.0 / (1.0 + np.exp(-preds))\n",
        "    grad = preds - labels\n",
        "    hess = preds * (1.0 - preds)\n",
        "    return grad, hess\n",
        "\n",
        "\n",
        "def evalerror(preds, dtrain):\n",
        "    labels = dtrain.get_label()\n",
        "    return \"error\", float(sum(labels != (preds > 0.0))) / len(labels)\n",
        "\n",
        "\n",
        "param = {\"max_depth\": 2, \"eta\": 1}\n",
        "# train with customized objective\n",
        "xgb.cv(param, dtrain, num_round, nfold=5, seed=0, obj=logregobj, feval=evalerror)"
      ]
    }
  ],
  "metadata": {
    "kernelspec": {
      "display_name": "Python 3",
      "language": "python",
      "name": "python3"
    },
    "language_info": {
      "codemirror_mode": {
        "name": "ipython",
        "version": 3
      },
      "file_extension": ".py",
      "mimetype": "text/x-python",
      "name": "python",
      "nbconvert_exporter": "python",
      "pygments_lexer": "ipython3",
      "version": "3.9.7"
    }
  },
  "nbformat": 4,
  "nbformat_minor": 0
}
