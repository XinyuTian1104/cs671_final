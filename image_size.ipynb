{
 "cells": [
  {
   "cell_type": "code",
   "execution_count": 1,
   "metadata": {},
   "outputs": [
    {
     "name": "stderr",
     "output_type": "stream",
     "text": [
      "/Users/xinyutian/opt/anaconda3/lib/python3.9/site-packages/pandas/core/computation/expressions.py:21: UserWarning: Pandas requires version '2.8.0' or newer of 'numexpr' (version '2.7.3' currently installed).\n",
      "  from pandas.core.computation.check import NUMEXPR_INSTALLED\n",
      "/Users/xinyutian/opt/anaconda3/lib/python3.9/site-packages/pandas/core/arrays/masked.py:62: UserWarning: Pandas requires version '1.3.4' or newer of 'bottleneck' (version '1.3.2' currently installed).\n",
      "  from pandas.core import (\n"
     ]
    }
   ],
   "source": [
    "import pandas as pd\n",
    "import os\n",
    "from PIL import Image\n",
    "from sklearn.linear_model import LinearRegression\n",
    "from sklearn.linear_model import LogisticRegression\n",
    "from sklearn.tree import DecisionTreeClassifier\n",
    "\n",
    "import numpy as np"
   ]
  },
  {
   "cell_type": "code",
   "execution_count": 2,
   "metadata": {},
   "outputs": [],
   "source": [
    "data = pd.read_csv('train.csv')"
   ]
  },
  {
   "cell_type": "code",
   "execution_count": 3,
   "metadata": {},
   "outputs": [
    {
     "name": "stderr",
     "output_type": "stream",
     "text": [
      "/Users/xinyutian/opt/anaconda3/lib/python3.9/site-packages/PIL/Image.py:3182: DecompressionBombWarning: Image size (108000000 pixels) exceeds limit of 89478485 pixels, could be decompression bomb DOS attack.\n",
      "  warnings.warn(\n"
     ]
    }
   ],
   "source": [
    "# read the file sizes of the images in folder: downloaded_images and store them in a ordered list by filename\n",
    "image_sizes = []\n",
    "for i in range(len(data)):\n",
    "    # test if the file exists\n",
    "    if os.path.isfile('downloaded_images/' + str(i) + '.jpg'):\n",
    "        # open the image\n",
    "        im = Image.open('downloaded_images/' + str(i) + '.jpg')\n",
    "        # get the size of the image\n",
    "        width, height = im.size\n",
    "        # append the size of the image to the list\n",
    "        image_sizes.append((i, width, height))\n",
    "    elif os.path.isfile('downloaded_images/' + str(i) + '.jpeg'):\n",
    "        # open the image\n",
    "        im = Image.open('downloaded_images/' + str(i) + '.jpeg')\n",
    "        # get the size of the image\n",
    "        width, height = im.size\n",
    "        # append the size of the image to the list\n",
    "        image_sizes.append((i, width, height))\n",
    "    elif os.path.isfile('downloaded_images/' + str(i) + '.png'):\n",
    "        # open the image\n",
    "        im = Image.open('downloaded_images/' + str(i) + '.png')\n",
    "        # get the size of the image\n",
    "        width, height = im.size\n",
    "        # append the size of the image to the list\n",
    "        image_sizes.append((i, width, height))\n",
    "    else:\n",
    "        # append the size of the image to the list\n",
    "        image_sizes.append((i, 0, 0))\n",
    "\n",
    "image_sizes = np.array(image_sizes)\n",
    "df = pd.DataFrame(image_sizes, columns=['id', 'width', 'height'])\n",
    "df['price'] = df['id']+1\n",
    "for i in range(len(data)):\n",
    "    if data['id'][i] == df['id'][i]:\n",
    "        df['price'][i] = data['price'][i]\n",
    "df = df.dropna()"
   ]
  },
  {
   "cell_type": "code",
   "execution_count": 5,
   "metadata": {},
   "outputs": [
    {
     "name": "stdout",
     "output_type": "stream",
     "text": [
      "0.25412861861278413\n",
      "0.021583078602305794\n",
      "0.531442264102066\n"
     ]
    }
   ],
   "source": [
    "model1 = LogisticRegression().fit(df[['width', 'height']], df['price'])\n",
    "print(model1.score(df[['width', 'height']], df['price']))\n",
    "\n",
    "model2 = LinearRegression().fit(df[['width', 'height']], df['price'])\n",
    "print(model2.score(df[['width', 'height']], df['price']))\n",
    "\n",
    "model3 = DecisionTreeClassifier().fit(df[['width', 'height']], df['price'])\n",
    "print(model3.score(df[['width', 'height']], df['price']))\n",
    "\n"
   ]
  },
  {
   "cell_type": "code",
   "execution_count": 8,
   "metadata": {},
   "outputs": [],
   "source": [
    "test_data = pd.read_csv('test.csv')"
   ]
  },
  {
   "cell_type": "code",
   "execution_count": 9,
   "metadata": {},
   "outputs": [],
   "source": [
    "# read the file sizes of the images in folder: downloaded_images and store them in a ordered list by filename\n",
    "test_image_sizes = []\n",
    "for i in range(len(test_data)):\n",
    "    # test if the file exists\n",
    "    if os.path.isfile('test_images/' + str(i) + '.jpg'):\n",
    "        # open the image\n",
    "        im = Image.open('test_images/' + str(i) + '.jpg')\n",
    "        # get the size of the image\n",
    "        width, height = im.size\n",
    "        # append the size of the image to the list\n",
    "        test_image_sizes.append((i, width, height))\n",
    "    elif os.path.isfile('test_images/' + str(i) + '.jpeg'):\n",
    "        # open the image\n",
    "        im = Image.open('test_images/' + str(i) + '.jpeg')\n",
    "        # get the size of the image\n",
    "        width, height = im.size\n",
    "        # append the size of the image to the list\n",
    "        test_image_sizes.append((i, width, height))\n",
    "    else:\n",
    "        # append the size of the image to the list\n",
    "        test_image_sizes.append((i, 0, 0))\n",
    "\n",
    "test_image_sizes = np.array(test_image_sizes)\n",
    "df = pd.DataFrame(test_image_sizes, columns=['id', 'width', 'height'])"
   ]
  },
  {
   "cell_type": "code",
   "execution_count": 10,
   "metadata": {},
   "outputs": [
    {
     "data": {
      "text/plain": [
       "array([[   0, 1512, 2016],\n",
       "       [   1, 3840, 2560],\n",
       "       [   2, 5977, 3985],\n",
       "       ...,\n",
       "       [6288, 4000, 3000],\n",
       "       [6289, 1280,  960],\n",
       "       [6290,  640,  480]])"
      ]
     },
     "execution_count": 10,
     "metadata": {},
     "output_type": "execute_result"
    }
   ],
   "source": [
    "test_image_sizes"
   ]
  },
  {
   "cell_type": "code",
   "execution_count": 11,
   "metadata": {},
   "outputs": [
    {
     "data": {
      "text/plain": [
       "array([0, 0, 2, ..., 0, 0, 0])"
      ]
     },
     "execution_count": 11,
     "metadata": {},
     "output_type": "execute_result"
    }
   ],
   "source": [
    "pred = model3.predict(df[['width', 'height']])\n",
    "pred"
   ]
  },
  {
   "cell_type": "code",
   "execution_count": 12,
   "metadata": {},
   "outputs": [],
   "source": [
    "# save the prediction to a csv file\n",
    "df = pd.DataFrame(pred)\n",
    "df.to_csv('prediction.csv', index=False, header=False)\n",
    "\n",
    "# the columns of the csv file are: id, price\n",
    "prediction = pd.read_csv('prediction.csv')\n",
    "prediction.insert(0, 'id', range(0, len(prediction)))\n",
    "prediction.to_csv('prediction.csv', index=False)"
   ]
  },
  {
   "cell_type": "code",
   "execution_count": null,
   "metadata": {},
   "outputs": [],
   "source": []
  }
 ],
 "metadata": {
  "kernelspec": {
   "display_name": "venv",
   "language": "python",
   "name": "python3"
  },
  "language_info": {
   "codemirror_mode": {
    "name": "ipython",
    "version": 3
   },
   "file_extension": ".py",
   "mimetype": "text/x-python",
   "name": "python",
   "nbconvert_exporter": "python",
   "pygments_lexer": "ipython3",
   "version": "3.9.7"
  }
 },
 "nbformat": 4,
 "nbformat_minor": 2
}
