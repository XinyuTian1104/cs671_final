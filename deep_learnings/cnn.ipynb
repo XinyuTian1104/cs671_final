{
 "cells": [
  {
   "cell_type": "code",
   "execution_count": 1,
   "metadata": {},
   "outputs": [
    {
     "name": "stdout",
     "output_type": "stream",
     "text": [
      "Intel MKL WARNING: Support of Intel(R) Streaming SIMD Extensions 4.2 (Intel(R) SSE4.2) enabled only processors has been deprecated. Intel oneAPI Math Kernel Library 2025.0 will require Intel(R) Advanced Vector Extensions (Intel(R) AVX) instructions.\n",
      "Intel MKL WARNING: Support of Intel(R) Streaming SIMD Extensions 4.2 (Intel(R) SSE4.2) enabled only processors has been deprecated. Intel oneAPI Math Kernel Library 2025.0 will require Intel(R) Advanced Vector Extensions (Intel(R) AVX) instructions.\n"
     ]
    },
    {
     "name": "stderr",
     "output_type": "stream",
     "text": [
      "2023-12-04 11:52:55.261549: I tensorflow/core/platform/cpu_feature_guard.cc:182] This TensorFlow binary is optimized to use available CPU instructions in performance-critical operations.\n",
      "To enable the following instructions: SSE4.1 SSE4.2, in other operations, rebuild TensorFlow with the appropriate compiler flags.\n"
     ]
    }
   ],
   "source": [
    "import os\n",
    "import cv2\n",
    "import numpy as np\n",
    "import pandas as pd\n",
    "from tensorflow.keras.utils import to_categorical\n",
    "from tensorflow.keras.models import Sequential\n",
    "from tensorflow.keras.layers import Conv2D, MaxPooling2D, Flatten, Dense, Dropout"
   ]
  },
  {
   "cell_type": "code",
   "execution_count": 2,
   "metadata": {},
   "outputs": [],
   "source": [
    "raw_data = pd.read_csv('train.csv')\n",
    "test_data = pd.read_csv('test.csv')\n",
    "\n",
    "image_size = (256, 256)"
   ]
  },
  {
   "cell_type": "code",
   "execution_count": 3,
   "metadata": {},
   "outputs": [
    {
     "name": "stdout",
     "output_type": "stream",
     "text": [
      "Image 3 not found\n",
      "Image 63 not found\n",
      "Image 79 not found\n",
      "Image 100 not found\n",
      "Image 120 not found\n",
      "Image 246 not found\n",
      "Image 258 not found\n",
      "Image 340 not found\n",
      "Image 449 not found\n",
      "Image 510 not found\n",
      "Image 516 not found\n",
      "Image 536 not found\n",
      "Image 580 not found\n",
      "Image 582 not found\n",
      "Image 602 not found\n",
      "Image 608 not found\n",
      "Image 668 not found\n",
      "Image 675 not found\n",
      "Image 802 not found\n",
      "Image 811 not found\n",
      "Image 831 not found\n",
      "Image 837 not found\n",
      "Image 852 not found\n",
      "Image 874 not found\n",
      "Image 883 not found\n",
      "Image 903 not found\n",
      "Image 906 not found\n",
      "Image 908 not found\n",
      "Image 937 not found\n",
      "Image 939 not found\n",
      "Image 969 not found\n",
      "Image 1004 not found\n",
      "Image 1007 not found\n",
      "Image 1070 not found\n",
      "Image 1101 not found\n",
      "Image 1178 not found\n",
      "Image 1312 not found\n",
      "Image 1358 not found\n"
     ]
    },
    {
     "name": "stderr",
     "output_type": "stream",
     "text": [
      "Premature end of JPEG file\n",
      "Invalid SOS parameters for sequential JPEG\n"
     ]
    },
    {
     "name": "stdout",
     "output_type": "stream",
     "text": [
      "Image 1485 not found\n",
      "Image 1557 not found\n",
      "Image 1592 not found\n",
      "Image 1623 not found\n",
      "Image 1624 not found\n",
      "Image 1640 not found\n",
      "Image 1726 not found\n",
      "Image 1771 not found\n",
      "Image 1850 not found\n",
      "Image 1858 not found\n",
      "Image 1871 not found\n",
      "Image 1896 not found\n",
      "Image 1917 not found\n",
      "Image 1988 not found\n",
      "Image 1993 not found\n",
      "Image 2097 not found\n",
      "Image 2132 not found\n"
     ]
    },
    {
     "name": "stderr",
     "output_type": "stream",
     "text": [
      "libpng warning: iCCP: known incorrect sRGB profile\n",
      "libpng warning: iCCP: gamma value does not match sRGB\n"
     ]
    },
    {
     "name": "stdout",
     "output_type": "stream",
     "text": [
      "Image 2214 not found\n",
      "Image 2225 not found\n",
      "Image 2257 not found\n",
      "Image 2283 not found\n",
      "Image 2330 not found\n",
      "Image 2355 not found\n",
      "Image 2373 not found\n",
      "Image 2432 not found\n",
      "Image 2482 not found\n",
      "Image 2576 not found\n",
      "Image 2614 not found\n",
      "Image 2628 not found\n",
      "Image 2722 not found\n",
      "Image 2748 not found\n",
      "Image 2752 not found\n"
     ]
    },
    {
     "name": "stderr",
     "output_type": "stream",
     "text": [
      "libpng warning: iCCP: extra compressed data\n"
     ]
    },
    {
     "name": "stdout",
     "output_type": "stream",
     "text": [
      "Image 2957 not found\n",
      "Image 2992 not found\n",
      "Image 3002 not found\n",
      "Image 3009 not found\n",
      "Image 3058 not found\n",
      "Image 3064 not found\n",
      "Image 3085 not found\n",
      "Image 3100 not found\n",
      "Image 3129 not found\n",
      "Image 3142 not found\n",
      "Image 3265 not found\n",
      "Image 3321 not found\n",
      "Image 3385 not found\n"
     ]
    },
    {
     "name": "stderr",
     "output_type": "stream",
     "text": [
      "libpng warning: iCCP: extra compressed data\n"
     ]
    },
    {
     "name": "stdout",
     "output_type": "stream",
     "text": [
      "Image 3447 not found\n",
      "Image 3494 not found\n",
      "Image 3523 not found\n",
      "Image 3559 not found\n",
      "Image 3681 not found\n",
      "Image 3743 not found\n",
      "Image 3748 not found\n",
      "Image 3794 not found\n",
      "Image 3798 not found\n",
      "Image 3862 not found\n",
      "Image 3926 not found\n",
      "Image 3946 not found\n",
      "Image 4011 not found\n",
      "Image 4046 not found\n"
     ]
    },
    {
     "name": "stderr",
     "output_type": "stream",
     "text": [
      "Invalid SOS parameters for sequential JPEG\n"
     ]
    },
    {
     "name": "stdout",
     "output_type": "stream",
     "text": [
      "Image 4114 not found\n",
      "Image 4171 not found\n",
      "Image 4225 not found\n",
      "Image 4363 not found\n",
      "Image 4371 not found\n",
      "Image 4416 not found\n",
      "Image 4425 not found\n",
      "Image 4439 not found\n",
      "Image 4496 not found\n",
      "Image 4506 not found\n",
      "Image 4573 not found\n",
      "Image 4593 not found\n"
     ]
    },
    {
     "name": "stderr",
     "output_type": "stream",
     "text": [
      "libpng warning: iCCP: known incorrect sRGB profile\n"
     ]
    },
    {
     "name": "stdout",
     "output_type": "stream",
     "text": [
      "Image 4660 not found\n",
      "Image 4706 not found\n",
      "Image 4871 not found\n",
      "Image 4883 not found\n"
     ]
    },
    {
     "name": "stderr",
     "output_type": "stream",
     "text": [
      "Invalid SOS parameters for sequential JPEG\n"
     ]
    },
    {
     "name": "stdout",
     "output_type": "stream",
     "text": [
      "Image 4901 not found\n"
     ]
    },
    {
     "name": "stderr",
     "output_type": "stream",
     "text": [
      "libpng warning: iCCP: extra compressed data\n"
     ]
    },
    {
     "name": "stdout",
     "output_type": "stream",
     "text": [
      "Image 4981 not found\n",
      "Image 5002 not found\n"
     ]
    },
    {
     "name": "stderr",
     "output_type": "stream",
     "text": [
      "libpng warning: iCCP: extra compressed data\n"
     ]
    },
    {
     "name": "stdout",
     "output_type": "stream",
     "text": [
      "Image 5073 not found\n",
      "Image 5187 not found\n",
      "Image 5254 not found\n",
      "Image 5334 not found\n",
      "Image 5368 not found\n",
      "Image 5394 not found\n",
      "Image 5406 not found\n",
      "Image 5424 not found\n",
      "Image 5452 not found\n",
      "Image 5496 not found\n",
      "Image 5500 not found\n",
      "Image 5506 not found\n",
      "Image 5529 not found\n",
      "Image 5559 not found\n",
      "Image 5599 not found\n",
      "Image 5611 not found\n",
      "Image 5681 not found\n",
      "Image 5705 not found\n",
      "Image 5861 not found\n",
      "Image 5882 not found\n",
      "Image 5898 not found\n",
      "Image 6014 not found\n",
      "Image 6053 not found\n",
      "Image 6062 not found\n",
      "Image 6273 not found\n",
      "Image 6336 not found\n",
      "Image 6360 not found\n",
      "Image 6372 not found\n",
      "Image 6406 not found\n",
      "Image 6480 not found\n",
      "Image 6534 not found\n",
      "Image 6547 not found\n",
      "Image 6551 not found\n",
      "Image 6730 not found\n",
      "Image 6823 not found\n",
      "Image 6916 not found\n"
     ]
    },
    {
     "name": "stderr",
     "output_type": "stream",
     "text": [
      "Invalid SOS parameters for sequential JPEG\n"
     ]
    },
    {
     "name": "stdout",
     "output_type": "stream",
     "text": [
      "Image 6964 not found\n",
      "Image 7019 not found\n",
      "Image 7023 not found\n",
      "Image 7043 not found\n",
      "Image 7107 not found\n",
      "Image 7128 not found\n",
      "Image 7186 not found\n"
     ]
    },
    {
     "name": "stderr",
     "output_type": "stream",
     "text": [
      "Invalid SOS parameters for sequential JPEG\n"
     ]
    },
    {
     "name": "stdout",
     "output_type": "stream",
     "text": [
      "Image 7400 not found\n",
      "Image 7450 not found\n",
      "Image 7461 not found\n",
      "Image 7547 not found\n",
      "Image 7555 not found\n",
      "Image 7572 not found\n",
      "Image 7609 not found\n"
     ]
    },
    {
     "name": "stderr",
     "output_type": "stream",
     "text": [
      "libpng warning: iCCP: known incorrect sRGB profile\n"
     ]
    },
    {
     "name": "stdout",
     "output_type": "stream",
     "text": [
      "Image 7637 not found\n",
      "Image 7749 not found\n",
      "Image 7909 not found\n",
      "Image 7949 not found\n",
      "Image 7958 not found\n",
      "Image 7963 not found\n",
      "Image 8020 not found\n",
      "Image 8070 not found\n",
      "Image 8093 not found\n",
      "Image 8177 not found\n",
      "Image 8242 not found\n",
      "Image 8413 not found\n",
      "Image 8449 not found\n",
      "Image 8524 not found\n"
     ]
    },
    {
     "name": "stderr",
     "output_type": "stream",
     "text": [
      "libpng warning: iCCP: known incorrect sRGB profile\n"
     ]
    },
    {
     "name": "stdout",
     "output_type": "stream",
     "text": [
      "Image 8558 not found\n",
      "Image 8680 not found\n",
      "Image 8700 not found\n",
      "Image 8718 not found\n",
      "Image 8749 not found\n",
      "Image 8836 not found\n",
      "Image 8868 not found\n",
      "Image 8913 not found\n",
      "Image 8922 not found\n",
      "Image 9010 not found\n",
      "Image 9029 not found\n",
      "Image 9031 not found\n",
      "Image 9038 not found\n",
      "Image 9073 not found\n",
      "Image 9132 not found\n",
      "Image 9236 not found\n",
      "Image 9275 not found\n",
      "Image 9289 not found\n",
      "Image 9352 not found\n",
      "Image 9358 not found\n",
      "Image 9367 not found\n",
      "Image 9436 not found\n",
      "Image 9551 not found\n",
      "Image 9628 not found\n",
      "Image 9664 not found\n",
      "Image 9712 not found\n",
      "Image 9792 not found\n",
      "Image 9814 not found\n",
      "Image 9829 not found\n",
      "Image 9849 not found\n",
      "Image 10013 not found\n",
      "Image 10254 not found\n",
      "Image 10375 not found\n",
      "Image 10385 not found\n",
      "Image 10426 not found\n",
      "Image 10506 not found\n",
      "Image 10509 not found\n",
      "Image 10591 not found\n",
      "Image 10597 not found\n",
      "Image 10640 not found\n"
     ]
    },
    {
     "name": "stderr",
     "output_type": "stream",
     "text": [
      "Invalid SOS parameters for sequential JPEG\n"
     ]
    },
    {
     "name": "stdout",
     "output_type": "stream",
     "text": [
      "Image 10661 not found\n",
      "Image 10694 not found\n",
      "Image 10742 not found\n"
     ]
    },
    {
     "name": "stderr",
     "output_type": "stream",
     "text": [
      "Invalid SOS parameters for sequential JPEG\n"
     ]
    },
    {
     "name": "stdout",
     "output_type": "stream",
     "text": [
      "Image 10826 not found\n",
      "Image 10828 not found\n",
      "Image 10864 not found\n",
      "Image 10884 not found\n",
      "Image 10913 not found\n",
      "Image 10937 not found\n",
      "Image 11009 not found\n",
      "Image 11019 not found\n",
      "Image 11101 not found\n",
      "Image 11109 not found\n",
      "Image 11162 not found\n",
      "Image 11179 not found\n",
      "Image 11235 not found\n",
      "Image 11270 not found\n",
      "Image 11337 not found\n",
      "Image 11349 not found\n",
      "Image 11394 not found\n",
      "Image 11412 not found\n",
      "Image 11427 not found\n",
      "Image 11467 not found\n",
      "Image 11529 not found\n",
      "Image 11571 not found\n",
      "Image 11626 not found\n",
      "Image 11643 not found\n",
      "Image 11674 not found\n",
      "Image 11678 not found\n",
      "Image 11723 not found\n",
      "Image 11755 not found\n"
     ]
    },
    {
     "name": "stderr",
     "output_type": "stream",
     "text": [
      "libpng warning: iCCP: profile 'ProPhoto RGB': 0h: PCS illuminant is not D50\n"
     ]
    },
    {
     "name": "stdout",
     "output_type": "stream",
     "text": [
      "Image 11847 not found\n",
      "Image 11890 not found\n",
      "Image 11912 not found\n",
      "Image 11929 not found\n",
      "Image 11952 not found\n",
      "Image 11973 not found\n",
      "Image 11985 not found\n",
      "Image 12041 not found\n",
      "Image 12053 not found\n",
      "Image 12085 not found\n",
      "Image 12113 not found\n"
     ]
    },
    {
     "name": "stderr",
     "output_type": "stream",
     "text": [
      "libpng warning: iCCP: known incorrect sRGB profile\n"
     ]
    },
    {
     "name": "stdout",
     "output_type": "stream",
     "text": [
      "Image 12209 not found\n",
      "Image 12303 not found\n",
      "Image 12314 not found\n",
      "Image 12324 not found\n",
      "Image 12332 not found\n",
      "Image 12346 not found\n",
      "Image 12383 not found\n",
      "Image 12391 not found\n"
     ]
    },
    {
     "name": "stderr",
     "output_type": "stream",
     "text": [
      "Invalid SOS parameters for sequential JPEG\n"
     ]
    },
    {
     "name": "stdout",
     "output_type": "stream",
     "text": [
      "Image 12417 not found\n",
      "Image 12465 not found\n",
      "Image 12479 not found\n",
      "Image 12577 not found\n",
      "Image 12592 not found\n",
      "Image 12675 not found\n",
      "Image 12748 not found\n",
      "Image 12836 not found\n",
      "Image 12895 not found\n",
      "Image 12912 not found\n",
      "Image 12922 not found\n",
      "Image 12969 not found\n",
      "Image 13050 not found\n",
      "Image 13094 not found\n",
      "Image 13111 not found\n",
      "Image 13163 not found\n",
      "Image 13275 not found\n",
      "Image 13298 not found\n",
      "Image 13323 not found\n",
      "Image 13331 not found\n",
      "Image 13481 not found\n",
      "Image 13553 not found\n",
      "Image 13568 not found\n",
      "Image 13587 not found\n",
      "Image 13588 not found\n",
      "Image 13591 not found\n",
      "Image 13598 not found\n",
      "Image 13599 not found\n",
      "Image 13607 not found\n",
      "Image 13625 not found\n",
      "Image 13661 not found\n",
      "Image 13665 not found\n",
      "Image 13788 not found\n",
      "Image 13857 not found\n",
      "Image 13892 not found\n",
      "Image 13903 not found\n",
      "Image 13944 not found\n",
      "Image 13967 not found\n",
      "Image 14000 not found\n",
      "Image 14023 not found\n",
      "Image 14114 not found\n",
      "Image 14196 not found\n",
      "Image 14222 not found\n",
      "Image 14320 not found\n",
      "Image 14336 not found\n",
      "Image 14401 not found\n",
      "Image 14501 not found\n",
      "Image 14532 not found\n",
      "Image 14564 not found\n",
      "Image 14592 not found\n",
      "Image 14594 not found\n",
      "Image 14622 not found\n",
      "Image 14627 not found\n",
      "Image 14730 not found\n",
      "Image 14733 not found\n",
      "Image 14745 not found\n",
      "Image 14819 not found\n",
      "Image 14944 not found\n",
      "Image 14977 not found\n",
      "Image 14985 not found\n",
      "Image 14996 not found\n",
      "Image 15014 not found\n",
      "Image 15022 not found\n",
      "Image 15030 not found\n",
      "Image 15051 not found\n",
      "Image 15090 not found\n",
      "Image 15126 not found\n",
      "Image 15146 not found\n",
      "Image 15150 not found\n",
      "Image 15164 not found\n",
      "Image 15183 not found\n",
      "Image 15204 not found\n",
      "Image 15312 not found\n",
      "Image 15420 not found\n",
      "Image 15439 not found\n"
     ]
    }
   ],
   "source": [
    "images = []\n",
    "ids = []\n",
    "for i in range(len(raw_data)):\n",
    "    if os.path.isfile('downloaded_images/' + str(i) + '.jpg'):\n",
    "        image = cv2.imread('downloaded_images/' + str(i) + '.jpg')\n",
    "        image = cv2.resize(image, image_size)\n",
    "        images.append(image)\n",
    "        ids.append(i)\n",
    "    elif os.path.isfile('downloaded_images/' + str(i) + '.jpeg'):\n",
    "        image = cv2.imread('downloaded_images/' + str(i) + '.jpeg')\n",
    "        image = cv2.resize(image, image_size)\n",
    "        images.append(image)\n",
    "        ids.append(i)\n",
    "    elif os.path.isfile('downloaded_images/' + str(i) + '.png'):\n",
    "        image = cv2.imread('downloaded_images/' + str(i) + '.png')\n",
    "        image = cv2.resize(image, image_size)\n",
    "        images.append(image)\n",
    "        ids.append(i)\n",
    "    else:\n",
    "        # print('Image ' + str(i) + ' not found')\n",
    "        continue\n",
    "\n",
    "images = np.array(images)"
   ]
  },
  {
   "cell_type": "code",
   "execution_count": null,
   "metadata": {},
   "outputs": [],
   "source": [
    "from tensorflow.keras.preprocessing.image import ImageDataGenerator"
   ]
  },
  {
   "cell_type": "code",
   "execution_count": null,
   "metadata": {},
   "outputs": [],
   "source": [
    "train_datagen = ImageDataGenerator(\n",
    "    rotation_range=20,\n",
    "    width_shift_range=0.2,\n",
    "    height_shift_range=0.2,\n",
    "    shear_range=0.2,\n",
    "    zoom_range=0.2,\n",
    "    horizontal_flip=True,\n",
    "    fill_mode='nearest')"
   ]
  },
  {
   "cell_type": "code",
   "execution_count": 14,
   "metadata": {},
   "outputs": [],
   "source": [
    "labels = raw_data['price'].values\n",
    "labels = to_categorical(labels)  # Adjust labels for categorical crossentropy\n",
    "labels = labels[ids]"
   ]
  },
  {
   "cell_type": "code",
   "execution_count": null,
   "metadata": {},
   "outputs": [],
   "source": [
    "images.shape, labels.shape"
   ]
  },
  {
   "cell_type": "code",
   "execution_count": 20,
   "metadata": {},
   "outputs": [],
   "source": [
    "model1 = Sequential([\n",
    "    Conv2D(32, (3, 3), activation='relu', input_shape=(image_size[0], image_size[1], 3)),\n",
    "    MaxPooling2D(2, 2),\n",
    "    Conv2D(64, (3, 3), activation='relu'),\n",
    "    MaxPooling2D(2, 2),\n",
    "    Flatten(),\n",
    "    Dense(128, activation='relu'),\n",
    "    Dropout(0.5),\n",
    "    Dense(5, activation='softmax')  # 5 for the number of price categories\n",
    "])\n",
    "\n",
    "model1.compile(optimizer='adam', loss='categorical_crossentropy', metrics=['accuracy'])\n"
   ]
  },
  {
   "cell_type": "code",
   "execution_count": null,
   "metadata": {},
   "outputs": [],
   "source": [
    "model2 = Sequential([\n",
    "    Conv2D(32, (3, 3), activation='relu', input_shape=(image_size[0], image_size[1], 3)),\n",
    "    MaxPooling2D(2, 2),\n",
    "    Conv2D(64, (3, 3), activation='relu'),\n",
    "    MaxPooling2D(2, 2),\n",
    "    Flatten(),\n",
    "    Dense(256, activation='relu'),\n",
    "    Dropout(0.5),\n",
    "    Dense(128, activation='relu'),\n",
    "    Dropout(0.5),\n",
    "    Dense(labels.shape[1], activation='softmax')  # Assuming labels are one-hot encoded\n",
    "])\n",
    "model2.compile(optimizer='adam', loss='categorical_crossentropy', metrics=['accuracy'])"
   ]
  },
  {
   "cell_type": "code",
   "execution_count": 22,
   "metadata": {},
   "outputs": [
    {
     "name": "stdout",
     "output_type": "stream",
     "text": [
      "Epoch 1/10\n",
      "378/378 [==============================] - 12s 32ms/step - loss: 1.5569 - accuracy: 0.3426 - val_loss: 1.5557 - val_accuracy: 0.3354\n",
      "Epoch 2/10\n",
      "378/378 [==============================] - 11s 30ms/step - loss: 1.5497 - accuracy: 0.3431 - val_loss: 1.5557 - val_accuracy: 0.3354\n",
      "Epoch 3/10\n",
      "378/378 [==============================] - 12s 31ms/step - loss: 1.5497 - accuracy: 0.3431 - val_loss: 1.5580 - val_accuracy: 0.3354\n",
      "Epoch 4/10\n",
      "378/378 [==============================] - 12s 32ms/step - loss: 1.5490 - accuracy: 0.3431 - val_loss: 1.5550 - val_accuracy: 0.3354\n",
      "Epoch 5/10\n",
      "378/378 [==============================] - 12s 31ms/step - loss: 1.5474 - accuracy: 0.3431 - val_loss: 1.5576 - val_accuracy: 0.3354\n",
      "Epoch 6/10\n",
      "378/378 [==============================] - 12s 32ms/step - loss: 1.5472 - accuracy: 0.3431 - val_loss: 1.5561 - val_accuracy: 0.3354\n",
      "Epoch 7/10\n",
      "378/378 [==============================] - 12s 32ms/step - loss: 1.5469 - accuracy: 0.3431 - val_loss: 1.5569 - val_accuracy: 0.3354\n",
      "Epoch 8/10\n",
      "378/378 [==============================] - 12s 32ms/step - loss: 1.5462 - accuracy: 0.3431 - val_loss: 1.5541 - val_accuracy: 0.3354\n",
      "Epoch 9/10\n",
      "378/378 [==============================] - 12s 33ms/step - loss: 1.5448 - accuracy: 0.3431 - val_loss: 1.5527 - val_accuracy: 0.3354\n",
      "Epoch 10/10\n",
      "378/378 [==============================] - 12s 32ms/step - loss: 1.5433 - accuracy: 0.3431 - val_loss: 1.5512 - val_accuracy: 0.3354\n"
     ]
    }
   ],
   "source": [
    "model1.fit(images, labels, epochs=10, validation_split=0.2)\n",
    "model1.save('model.h5')"
   ]
  },
  {
   "cell_type": "code",
   "execution_count": 23,
   "metadata": {},
   "outputs": [
    {
     "name": "stderr",
     "output_type": "stream",
     "text": [
      "Invalid SOS parameters for sequential JPEG\n"
     ]
    },
    {
     "name": "stdout",
     "output_type": "stream",
     "text": [
      "Image 45 not found\n",
      "Image 53 not found\n",
      "Image 85 not found\n",
      "Image 121 not found\n",
      "Image 137 not found\n",
      "Image 197 not found\n",
      "Image 202 not found\n",
      "Image 210 not found\n",
      "Image 217 not found\n",
      "Image 224 not found\n",
      "Image 320 not found\n",
      "Image 328 not found\n",
      "Image 339 not found\n",
      "Image 348 not found\n",
      "Image 381 not found\n",
      "Image 387 not found\n",
      "Image 390 not found\n",
      "Image 460 not found\n",
      "Image 468 not found\n",
      "Image 609 not found\n",
      "Image 621 not found\n",
      "Image 645 not found\n",
      "Image 681 not found\n"
     ]
    },
    {
     "name": "stderr",
     "output_type": "stream",
     "text": [
      "Invalid SOS parameters for sequential JPEG\n"
     ]
    },
    {
     "name": "stdout",
     "output_type": "stream",
     "text": [
      "Image 718 not found\n",
      "Image 826 not found\n",
      "Image 836 not found\n",
      "Image 897 not found\n",
      "Image 923 not found\n",
      "Image 936 not found\n",
      "Image 957 not found\n",
      "Image 1026 not found\n",
      "Image 1147 not found\n",
      "Image 1189 not found\n",
      "Image 1203 not found\n",
      "Image 1222 not found\n",
      "Image 1362 not found\n",
      "Image 1377 not found\n",
      "Image 1389 not found\n",
      "Image 1417 not found\n",
      "Image 1444 not found\n",
      "Image 1463 not found\n",
      "Image 1464 not found\n",
      "Image 1470 not found\n"
     ]
    },
    {
     "name": "stderr",
     "output_type": "stream",
     "text": [
      "libpng warning: iCCP: extra compressed data\n"
     ]
    },
    {
     "name": "stdout",
     "output_type": "stream",
     "text": [
      "Image 1481 not found\n",
      "Image 1485 not found\n",
      "Image 1534 not found\n",
      "Image 1565 not found\n",
      "Image 1671 not found\n",
      "Image 1705 not found\n",
      "Image 1737 not found\n",
      "Image 1867 not found\n",
      "Image 1871 not found\n",
      "Image 1920 not found\n",
      "Image 1986 not found\n",
      "Image 2027 not found\n",
      "Image 2087 not found\n",
      "Image 2100 not found\n",
      "Image 2125 not found\n",
      "Image 2130 not found\n",
      "Image 2142 not found\n",
      "Image 2163 not found\n",
      "Image 2168 not found\n",
      "Image 2192 not found\n",
      "Image 2193 not found\n",
      "Image 2222 not found\n",
      "Image 2285 not found\n",
      "Image 2338 not found\n",
      "Image 2348 not found\n",
      "Image 2413 not found\n",
      "Image 2490 not found\n",
      "Image 2532 not found\n",
      "Image 2618 not found\n",
      "Image 2693 not found\n",
      "Image 2717 not found\n",
      "Image 2750 not found\n",
      "Image 2800 not found\n",
      "Image 2823 not found\n",
      "Image 2850 not found\n",
      "Image 2855 not found\n",
      "Image 2915 not found\n",
      "Image 2927 not found\n",
      "Image 2949 not found\n",
      "Image 2955 not found\n",
      "Image 2977 not found\n",
      "Image 2995 not found\n",
      "Image 3014 not found\n",
      "Image 3024 not found\n",
      "Image 3035 not found\n",
      "Image 3096 not found\n",
      "Image 3122 not found\n",
      "Image 3125 not found\n",
      "Image 3131 not found\n",
      "Image 3133 not found\n",
      "Image 3153 not found\n",
      "Image 3169 not found\n",
      "Image 3220 not found\n",
      "Image 3334 not found\n",
      "Image 3336 not found\n",
      "Image 3350 not found\n",
      "Image 3536 not found\n",
      "Image 3556 not found\n",
      "Image 3557 not found\n",
      "Image 3561 not found\n",
      "Image 3582 not found\n",
      "Image 3587 not found\n",
      "Image 3594 not found\n",
      "Image 3618 not found\n",
      "Image 3626 not found\n",
      "Image 3694 not found\n"
     ]
    },
    {
     "name": "stderr",
     "output_type": "stream",
     "text": [
      "Invalid SOS parameters for sequential JPEG\n",
      "libpng warning: iCCP: known incorrect sRGB profile\n"
     ]
    },
    {
     "name": "stdout",
     "output_type": "stream",
     "text": [
      "Image 3811 not found\n",
      "Image 3827 not found\n",
      "Image 3944 not found\n",
      "Image 3949 not found\n",
      "Image 3965 not found\n",
      "Image 3975 not found\n",
      "Image 3995 not found\n",
      "Image 4009 not found\n",
      "Image 4023 not found\n",
      "Image 4033 not found\n",
      "Image 4087 not found\n",
      "Image 4185 not found\n",
      "Image 4243 not found\n",
      "Image 4265 not found\n",
      "Image 4293 not found\n",
      "Image 4309 not found\n",
      "Image 4317 not found\n",
      "Image 4381 not found\n",
      "Image 4471 not found\n"
     ]
    },
    {
     "name": "stderr",
     "output_type": "stream",
     "text": [
      "libpng warning: iCCP: extra compressed data\n"
     ]
    },
    {
     "name": "stdout",
     "output_type": "stream",
     "text": [
      "Image 4503 not found\n",
      "Image 4518 not found\n",
      "Image 4602 not found\n",
      "Image 4605 not found\n",
      "Image 4686 not found\n",
      "Image 4694 not found\n",
      "Image 4705 not found\n",
      "Image 4751 not found\n",
      "Image 4779 not found\n",
      "Image 4862 not found\n",
      "Image 4913 not found\n",
      "Image 4953 not found\n",
      "Image 4956 not found\n",
      "Image 4961 not found\n",
      "Image 4965 not found\n",
      "Image 5029 not found\n"
     ]
    },
    {
     "name": "stderr",
     "output_type": "stream",
     "text": [
      "libpng warning: iCCP: profile 'Photoshop ICC profile': 0h: PCS illuminant is not D50\n",
      "libpng warning: iCCP: known incorrect sRGB profile\n"
     ]
    },
    {
     "name": "stdout",
     "output_type": "stream",
     "text": [
      "Image 5042 not found\n",
      "Image 5084 not found\n",
      "Image 5102 not found\n",
      "Image 5123 not found\n",
      "Image 5127 not found\n",
      "Image 5142 not found\n",
      "Image 5159 not found\n"
     ]
    },
    {
     "name": "stderr",
     "output_type": "stream",
     "text": [
      "Invalid SOS parameters for sequential JPEG\n"
     ]
    },
    {
     "name": "stdout",
     "output_type": "stream",
     "text": [
      "Image 5185 not found\n",
      "Image 5239 not found\n",
      "Image 5343 not found\n",
      "Image 5375 not found\n"
     ]
    },
    {
     "name": "stderr",
     "output_type": "stream",
     "text": [
      "libpng warning: iCCP: known incorrect sRGB profile\n"
     ]
    },
    {
     "name": "stdout",
     "output_type": "stream",
     "text": [
      "Image 5553 not found\n",
      "Image 5591 not found\n",
      "Image 5670 not found\n",
      "Image 5671 not found\n",
      "Image 5720 not found\n",
      "Image 5753 not found\n",
      "Image 5797 not found\n",
      "Image 5799 not found\n",
      "Image 5806 not found\n",
      "Image 5890 not found\n",
      "Image 5962 not found\n",
      "Image 6002 not found\n",
      "Image 6011 not found\n",
      "Image 6040 not found\n",
      "Image 6042 not found\n",
      "Image 6051 not found\n",
      "Image 6059 not found\n",
      "Image 6162 not found\n",
      "Image 6165 not found\n",
      "Image 6182 not found\n",
      "Image 6189 not found\n",
      "Image 6198 not found\n"
     ]
    }
   ],
   "source": [
    "test_data = pd.read_csv('test.csv')\n",
    "test_images = []\n",
    "test_ids = []\n",
    "for i in range(len(test_data)):\n",
    "    if os.path.isfile('test_images/' + str(i) + '.jpg'):\n",
    "        image = cv2.imread('test_images/' + str(i) + '.jpg')\n",
    "        image = cv2.resize(image, image_size)\n",
    "        test_images.append(image)\n",
    "        test_ids.append(i)\n",
    "    elif os.path.isfile('test_images/' + str(i) + '.jpeg'):\n",
    "        image = cv2.imread('test_images/' + str(i) + '.jpeg')\n",
    "        image = cv2.resize(image, image_size)\n",
    "        test_images.append(image)\n",
    "        test_ids.append(i)\n",
    "    elif os.path.isfile('test_images/' + str(i) + '.png'):\n",
    "        image = cv2.imread('test_images/' + str(i) + '.png')\n",
    "        image = cv2.resize(image, image_size)\n",
    "        test_images.append(image)\n",
    "        test_ids.append(i)\n",
    "    else:\n",
    "        print('Image ' + str(i) + ' not found')\n",
    "        continue\n",
    "\n",
    "test_images = np.array(test_images)"
   ]
  },
  {
   "cell_type": "code",
   "execution_count": null,
   "metadata": {},
   "outputs": [],
   "source": [
    "predictions = model1.predict(images)\n",
    "\n",
    "# save the predictions to a csv file\n",
    "test_data = pd.read_csv('test.csv')\n",
    "submission = pd.DataFrame({'id': test_data['id'], 'price': predictions})\n",
    "submission.to_csv('submission_image.csv', index=False)"
   ]
  }
 ],
 "metadata": {
  "kernelspec": {
   "display_name": "base",
   "language": "python",
   "name": "python3"
  },
  "language_info": {
   "codemirror_mode": {
    "name": "ipython",
    "version": 3
   },
   "file_extension": ".py",
   "mimetype": "text/x-python",
   "name": "python",
   "nbconvert_exporter": "python",
   "pygments_lexer": "ipython3",
   "version": "3.11.5"
  }
 },
 "nbformat": 4,
 "nbformat_minor": 2
}
