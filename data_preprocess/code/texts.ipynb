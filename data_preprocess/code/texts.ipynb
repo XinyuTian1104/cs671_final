{
 "cells": [
  {
   "cell_type": "code",
   "execution_count": 19,
   "metadata": {},
   "outputs": [
    {
     "name": "stderr",
     "output_type": "stream",
     "text": [
      "[nltk_data] Downloading package stopwords to\n",
      "[nltk_data]     /Users/xinyutian/nltk_data...\n",
      "[nltk_data]   Package stopwords is already up-to-date!\n"
     ]
    }
   ],
   "source": [
    "import pandas as pd\n",
    "import re\n",
    "from transformers import BertModel, BertTokenizer, DistilBertTokenizer, RobertaTokenizer\n",
    "# from sklearn.model_selection import train_test_split\n",
    "# from sklearn.linear_model import LinearRegression\n",
    "# from sklearn.metrics import mean_squared_error\n",
    "# from sklearn.feature_extraction.text import TfidfVectorizer\n",
    "from sklearn.feature_extraction.text import CountVectorizer\n",
    "# import stop words\n",
    "import nltk\n",
    "nltk.download('stopwords')\n",
    "from nltk.corpus import stopwords"
   ]
  },
  {
   "cell_type": "code",
   "execution_count": 20,
   "metadata": {},
   "outputs": [],
   "source": [
    "all_data = pd.read_csv('../../raw_data/train.csv')\n",
    "text_cols = ['name', \n",
    "             'host_name',\n",
    "            'description', \n",
    "            'host_verifications', \n",
    "            'neighbourhood_cleansed', \n",
    "            'neighbourhood_group_cleansed',\n",
    "            'property_type',\n",
    "            'room_type',\n",
    "            'bathrooms_text',\n",
    "            'amenities']"
   ]
  },
  {
   "cell_type": "code",
   "execution_count": 11,
   "metadata": {},
   "outputs": [],
   "source": [
    "test_data = pd.read_csv('../../raw_data/test.csv')"
   ]
  },
  {
   "cell_type": "code",
   "execution_count": 21,
   "metadata": {},
   "outputs": [],
   "source": [
    "def preprocess_text(text, placeholder_token=\"[NO_DESCRIPTION]\"):\n",
    "    if type(text) != str:\n",
    "        # Replace missing values with empty strings\n",
    "        text = \"\"\n",
    "    if not text or text.isspace():\n",
    "        # Replace empty/whitespace-only text with placeholder\n",
    "        return placeholder_token\n",
    "    else:\n",
    "        text = text.lower()\n",
    "        text = re.sub(r\"[^\\w\\s]\", \"\", text)\n",
    "        text = re.sub(r\"\\s+\", \" \", text).strip()\n",
    "        text = re.sub(r\"[^a-zA-Z]+\", \" \", text)\n",
    "        text = re.sub(r'[^\\w\\s]', '', text)\n",
    "        text = re.sub(r\"\\s+\", \" \", text).strip()\n",
    "        text = re.sub(r\"^\\s+$\", \"\", text)\n",
    "        text = re.sub(r\"^\\s+\", \"\", text)\n",
    "        text = re.sub(r\"\\s+$\", \"\", text)\n",
    "        # remove stop words\n",
    "        stop_words = stopwords.words('english')\n",
    "    return text"
   ]
  },
  {
   "cell_type": "code",
   "execution_count": 22,
   "metadata": {},
   "outputs": [],
   "source": [
    "# preprocess all the columns except for id and price\n",
    "for col in text_cols:\n",
    "    all_data[col] = all_data[col].apply(lambda x: preprocess_text(x))"
   ]
  },
  {
   "cell_type": "code",
   "execution_count": 12,
   "metadata": {},
   "outputs": [],
   "source": [
    "for col in text_cols:\n",
    "    test_data[col] = test_data[col].apply(lambda x: preprocess_text(x))"
   ]
  },
  {
   "cell_type": "code",
   "execution_count": 23,
   "metadata": {},
   "outputs": [],
   "source": [
    "# Version 1: Tokenization with BERT\n",
    "tokenizer = BertTokenizer.from_pretrained('bert-base-uncased')\n",
    "tokenized_data = all_data.copy()\n",
    "\n",
    "def tokenize_text(text, max_len=512):\n",
    "    return tokenizer.encode(text, add_special_tokens=True)[:max_len]\n",
    "\n",
    "for col in text_cols:\n",
    "    tokenized_data[col] = tokenized_data[col].apply(lambda x: tokenize_text(x))\n",
    "\n",
    "# save the tokenized data\n",
    "tokenized_data.to_csv('../df/texts/data_with_tokenization.csv', index=False)"
   ]
  },
  {
   "cell_type": "code",
   "execution_count": 6,
   "metadata": {},
   "outputs": [],
   "source": [
    "# Version 2: CountVectorizer\n",
    "count_vectorizer = CountVectorizer()\n",
    "vectorized_data = all_data.copy()\n",
    "\n",
    "name_vectorized = count_vectorizer.fit_transform(vectorized_data['name'])\n",
    "name_df = pd.DataFrame(name_vectorized.toarray(), columns=count_vectorizer.get_feature_names_out())\n",
    "description_vectorized = count_vectorizer.fit_transform(vectorized_data['description'])\n",
    "description_df = pd.DataFrame(description_vectorized.toarray(), columns=count_vectorizer.get_feature_names_out())\n",
    "host_verifications_vectorized = count_vectorizer.fit_transform(vectorized_data['host_verifications'])\n",
    "host_verifications_df = pd.DataFrame(host_verifications_vectorized.toarray(), columns=count_vectorizer.get_feature_names_out())\n",
    "neighbourhood_cleansed_vectorized = count_vectorizer.fit_transform(vectorized_data['neighbourhood_cleansed'])\n",
    "neighbourhood_cleansed_df = pd.DataFrame(neighbourhood_cleansed_vectorized.toarray(), columns=count_vectorizer.get_feature_names_out())\n",
    "neighbourhood_group_cleansed_vectorized = count_vectorizer.fit_transform(vectorized_data['neighbourhood_group_cleansed'])\n",
    "neighbourhood_group_cleansed_df = pd.DataFrame(neighbourhood_group_cleansed_vectorized.toarray(), columns=count_vectorizer.get_feature_names_out())\n",
    "property_type_vectorized = count_vectorizer.fit_transform(vectorized_data['property_type'])\n",
    "property_type_df = pd.DataFrame(property_type_vectorized.toarray(), columns=count_vectorizer.get_feature_names_out())\n",
    "room_type_vectorized = count_vectorizer.fit_transform(vectorized_data['room_type'])\n",
    "room_type_df = pd.DataFrame(room_type_vectorized.toarray(), columns=count_vectorizer.get_feature_names_out())\n",
    "bathrooms_text_vectorized = count_vectorizer.fit_transform(vectorized_data['bathrooms_text'])\n",
    "bathrooms_text_df = pd.DataFrame(bathrooms_text_vectorized.toarray(), columns=count_vectorizer.get_feature_names_out())\n",
    "amenities_vectorized = count_vectorizer.fit_transform(vectorized_data['amenities'])\n",
    "amenities_df = pd.DataFrame(amenities_vectorized.toarray(), columns=count_vectorizer.get_feature_names_out())\n"
   ]
  },
  {
   "cell_type": "code",
   "execution_count": 7,
   "metadata": {},
   "outputs": [],
   "source": [
    "host_name_vectorized = count_vectorizer.fit_transform(vectorized_data['host_name'])\n",
    "host_name_df = pd.DataFrame(host_name_vectorized.toarray(), columns=count_vectorizer.get_feature_names_out())"
   ]
  },
  {
   "cell_type": "code",
   "execution_count": 8,
   "metadata": {},
   "outputs": [],
   "source": [
    "# save all the dfs\n",
    "name_df.to_csv('../df/texts/name_df.csv', index=False)\n",
    "host_verifications_df.to_csv('../df/texts/host_verifications_df.csv', index=False)\n",
    "neighbourhood_cleansed_df.to_csv('../df/texts/neighbourhood_cleansed_df.csv', index=False)\n",
    "neighbourhood_group_cleansed_df.to_csv('../df/texts/neighbourhood_group_cleansed_df.csv', index=False)\n",
    "property_type_df.to_csv('../df/texts/property_type_df.csv', index=False)\n",
    "room_type_df.to_csv('../df/texts/room_type_df.csv', index=False)\n",
    "bathrooms_text_df.to_csv('../df/texts/bathrooms_text_df.csv', index=False)\n",
    "amenities_df.to_csv('../df/texts/amenities_df.csv', index=False)\n",
    "description_df.to_csv('../df/texts/description_df.csv', index=False)"
   ]
  },
  {
   "cell_type": "code",
   "execution_count": 14,
   "metadata": {},
   "outputs": [],
   "source": [
    "count_vectorizer = CountVectorizer()\n",
    "vectorized_data = test_data.copy()\n",
    "\n",
    "name_vectorized_test = count_vectorizer.fit_transform(vectorized_data['name'])\n",
    "name_df_test = pd.DataFrame(name_vectorized_test.toarray(), columns=count_vectorizer.get_feature_names_out())\n",
    "description_vectorized_test = count_vectorizer.fit_transform(vectorized_data['description'])\n",
    "description_df_test = pd.DataFrame(description_vectorized_test.toarray(), columns=count_vectorizer.get_feature_names_out())\n",
    "host_verifications_vectorized_test = count_vectorizer.fit_transform(vectorized_data['host_verifications'])\n",
    "host_verifications_df_test = pd.DataFrame(host_verifications_vectorized_test.toarray(), columns=count_vectorizer.get_feature_names_out())\n",
    "neighbourhood_cleansed_vectorized_test = count_vectorizer.fit_transform(vectorized_data['neighbourhood_cleansed'])\n",
    "neighbourhood_cleansed_df_test = pd.DataFrame(neighbourhood_cleansed_vectorized_test.toarray(), columns=count_vectorizer.get_feature_names_out())\n",
    "neighbourhood_group_cleansed_vectorized_test = count_vectorizer.fit_transform(vectorized_data['neighbourhood_group_cleansed'])\n",
    "neighbourhood_group_cleansed_df_test = pd.DataFrame(neighbourhood_group_cleansed_vectorized_test.toarray(), columns=count_vectorizer.get_feature_names_out())\n",
    "property_type_vectorized_test = count_vectorizer.fit_transform(vectorized_data['property_type'])\n",
    "property_type_df_test = pd.DataFrame(property_type_vectorized_test.toarray(), columns=count_vectorizer.get_feature_names_out())\n",
    "room_type_vectorized_test = count_vectorizer.fit_transform(vectorized_data['room_type'])\n",
    "room_type_df_test = pd.DataFrame(room_type_vectorized_test.toarray(), columns=count_vectorizer.get_feature_names_out())\n",
    "bathrooms_text_vectorized_test = count_vectorizer.fit_transform(vectorized_data['bathrooms_text'])\n",
    "bathrooms_text_df_test = pd.DataFrame(bathrooms_text_vectorized_test.toarray(), columns=count_vectorizer.get_feature_names_out())\n",
    "amenities_vectorized_test = count_vectorizer.fit_transform(vectorized_data['amenities'])\n",
    "amenities_df_test = pd.DataFrame(amenities_vectorized_test.toarray(), columns=count_vectorizer.get_feature_names_out())\n",
    "host_name_vectorized_test = count_vectorizer.fit_transform(vectorized_data['host_name'])\n",
    "host_name_df_test = pd.DataFrame(host_name_vectorized_test.toarray(), columns=count_vectorizer.get_feature_names_out())\n"
   ]
  },
  {
   "cell_type": "code",
   "execution_count": 15,
   "metadata": {},
   "outputs": [],
   "source": [
    "# save all to csv\n",
    "name_df_test.to_csv('../df/texts/name_df_test.csv', index=False)\n",
    "host_verifications_df_test.to_csv('../df/texts/host_verifications_df_test.csv', index=False)\n",
    "neighbourhood_cleansed_df_test.to_csv('../df/texts/neighbourhood_cleansed_df_test.csv', index=False)\n",
    "neighbourhood_group_cleansed_df_test.to_csv('../df/texts/neighbourhood_group_cleansed_df_test.csv', index=False)\n",
    "property_type_df_test.to_csv('../df/texts/property_type_df_test.csv', index=False)\n",
    "room_type_df_test.to_csv('../df/texts/room_type_df_test.csv', index=False)\n",
    "bathrooms_text_df_test.to_csv('../df/texts/bathrooms_text_df_test.csv', index=False)\n",
    "amenities_df_test.to_csv('../df/texts/amenities_df_test.csv', index=False)\n",
    "description_df_test.to_csv('../df/texts/description_df_test.csv', index=False)\n",
    "host_name_df_test.to_csv('../df/texts/host_name_df_test.csv', index=False)"
   ]
  },
  {
   "cell_type": "code",
   "execution_count": 18,
   "metadata": {},
   "outputs": [
    {
     "data": {
      "text/plain": [
       "Index(['acton', 'ada', 'agoura', 'agua', 'aire', 'alhambra', 'altadena', 'and',\n",
       "       'angeles', 'angles',\n",
       "       ...\n",
       "       'westchester', 'westlake', 'westwood', 'whittier', 'windsor',\n",
       "       'winnetka', 'woodland', 'wrightwood', 'york', 'yurt'],\n",
       "      dtype='object', length=245)"
      ]
     },
     "execution_count": 18,
     "metadata": {},
     "output_type": "execute_result"
    }
   ],
   "source": [
    "name_df.columns"
   ]
  },
  {
   "cell_type": "code",
   "execution_count": 10,
   "metadata": {},
   "outputs": [],
   "source": [
    "host_name_df.to_csv('../df/texts/host_name_df.csv', index=False)"
   ]
  },
  {
   "cell_type": "code",
   "execution_count": 9,
   "metadata": {},
   "outputs": [],
   "source": [
    "# save the vectorized data\n",
    "vectorized_data.to_csv('../df/texts/data_with_vectorization.csv', index=False)"
   ]
  }
 ],
 "metadata": {
  "kernelspec": {
   "display_name": "tf",
   "language": "python",
   "name": "python3"
  },
  "language_info": {
   "codemirror_mode": {
    "name": "ipython",
    "version": 3
   },
   "file_extension": ".py",
   "mimetype": "text/x-python",
   "name": "python",
   "nbconvert_exporter": "python",
   "pygments_lexer": "ipython3",
   "version": "3.9.7"
  }
 },
 "nbformat": 4,
 "nbformat_minor": 2
}
